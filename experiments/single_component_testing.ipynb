{
 "cells": [
  {
   "cell_type": "code",
   "id": "initial_id",
   "metadata": {
    "collapsed": true,
    "ExecuteTime": {
     "end_time": "2025-03-14T10:07:18.454785Z",
     "start_time": "2025-03-14T10:07:17.724768Z"
    }
   },
   "source": [
    "from agents.agents import return_check_mk_helper_agent\n",
    "from ingestion.parsers.blogpost_ingestion import load_blogposts_chunks\n",
    "from ingestion.parsers.integration_ingestion import load_integrations\n",
    "\n",
    "blog_folder = \"/Users/tsadoq/gits/check_chatbot/assets/blogposts_samples\"\n",
    "df = load_blogposts_chunks(blog_folder)\n",
    "print(df.columns)"
   ],
   "outputs": [
    {
     "name": "stderr",
     "output_type": "stream",
     "text": [
      "/Users/tsadoq/gits/check_chatbot/.venv/lib/python3.12/site-packages/tqdm/auto.py:21: TqdmWarning: IProgress not found. Please update jupyter and ipywidgets. See https://ipywidgets.readthedocs.io/en/stable/user_install.html\n",
      "  from .autonotebook import tqdm as notebook_tqdm\n",
      "Loading blogposts: 100%|██████████| 2/2 [00:00<00:00, 2771.26it/s]"
     ]
    },
    {
     "name": "stdout",
     "output_type": "stream",
     "text": [
      "Index(['title', 'author', 'date', 'content', 'filename', 'filepath', 'section',\n",
      "       'chunk'],\n",
      "      dtype='object')\n"
     ]
    },
    {
     "name": "stderr",
     "output_type": "stream",
     "text": [
      "\n"
     ]
    }
   ],
   "execution_count": 1
  },
  {
   "metadata": {
    "ExecuteTime": {
     "end_time": "2025-03-14T10:07:18.520031Z",
     "start_time": "2025-03-14T10:07:18.513047Z"
    }
   },
   "cell_type": "code",
   "source": "df.head()",
   "id": "45161ff21cffbf58",
   "outputs": [
    {
     "data": {
      "text/plain": [
       "                                               title          author  \\\n",
       "0  Not all monitoring is created equal: what we m...  Gianluca Fiore   \n",
       "1  Not all monitoring is created equal: what we m...  Gianluca Fiore   \n",
       "2  Not all monitoring is created equal: what we m...  Gianluca Fiore   \n",
       "3  Not all monitoring is created equal: what we m...  Gianluca Fiore   \n",
       "4  Not all monitoring is created equal: what we m...  Gianluca Fiore   \n",
       "\n",
       "         date                                            content  \\\n",
       "0  2025-03-12  # Introduction\\nIT monitoring means different ...   \n",
       "1  2025-03-12  # Introduction\\nIT monitoring means different ...   \n",
       "2  2025-03-12  # Introduction\\nIT monitoring means different ...   \n",
       "3  2025-03-12  # Introduction\\nIT monitoring means different ...   \n",
       "4  2025-03-12  # Introduction\\nIT monitoring means different ...   \n",
       "\n",
       "                filename                                           filepath  \\\n",
       "0  not_all_monitoring.md  /Users/tsadoq/gits/check_chatbot/assets/blogpo...   \n",
       "1  not_all_monitoring.md  /Users/tsadoq/gits/check_chatbot/assets/blogpo...   \n",
       "2  not_all_monitoring.md  /Users/tsadoq/gits/check_chatbot/assets/blogpo...   \n",
       "3  not_all_monitoring.md  /Users/tsadoq/gits/check_chatbot/assets/blogpo...   \n",
       "4  not_all_monitoring.md  /Users/tsadoq/gits/check_chatbot/assets/blogpo...   \n",
       "\n",
       "                                   section  \\\n",
       "0                             Introduction   \n",
       "1                   What is IT monitoring?   \n",
       "2  Completeness is a plus in IT monitoring   \n",
       "3                         Size accordingly   \n",
       "4             What is IT monitoring for us   \n",
       "\n",
       "                                               chunk  \n",
       "0  IT monitoring means different things to differ...  \n",
       "1  Most would probably say that IT monitoring is ...  \n",
       "2  No system is equal to another. Nor is one infr...  \n",
       "3  There's no need to use a cannon to shoot a fly...  \n",
       "4  IT monitoring means different things to differ...  "
      ],
      "text/html": [
       "<div>\n",
       "<style scoped>\n",
       "    .dataframe tbody tr th:only-of-type {\n",
       "        vertical-align: middle;\n",
       "    }\n",
       "\n",
       "    .dataframe tbody tr th {\n",
       "        vertical-align: top;\n",
       "    }\n",
       "\n",
       "    .dataframe thead th {\n",
       "        text-align: right;\n",
       "    }\n",
       "</style>\n",
       "<table border=\"1\" class=\"dataframe\">\n",
       "  <thead>\n",
       "    <tr style=\"text-align: right;\">\n",
       "      <th></th>\n",
       "      <th>title</th>\n",
       "      <th>author</th>\n",
       "      <th>date</th>\n",
       "      <th>content</th>\n",
       "      <th>filename</th>\n",
       "      <th>filepath</th>\n",
       "      <th>section</th>\n",
       "      <th>chunk</th>\n",
       "    </tr>\n",
       "  </thead>\n",
       "  <tbody>\n",
       "    <tr>\n",
       "      <th>0</th>\n",
       "      <td>Not all monitoring is created equal: what we m...</td>\n",
       "      <td>Gianluca Fiore</td>\n",
       "      <td>2025-03-12</td>\n",
       "      <td># Introduction\\nIT monitoring means different ...</td>\n",
       "      <td>not_all_monitoring.md</td>\n",
       "      <td>/Users/tsadoq/gits/check_chatbot/assets/blogpo...</td>\n",
       "      <td>Introduction</td>\n",
       "      <td>IT monitoring means different things to differ...</td>\n",
       "    </tr>\n",
       "    <tr>\n",
       "      <th>1</th>\n",
       "      <td>Not all monitoring is created equal: what we m...</td>\n",
       "      <td>Gianluca Fiore</td>\n",
       "      <td>2025-03-12</td>\n",
       "      <td># Introduction\\nIT monitoring means different ...</td>\n",
       "      <td>not_all_monitoring.md</td>\n",
       "      <td>/Users/tsadoq/gits/check_chatbot/assets/blogpo...</td>\n",
       "      <td>What is IT monitoring?</td>\n",
       "      <td>Most would probably say that IT monitoring is ...</td>\n",
       "    </tr>\n",
       "    <tr>\n",
       "      <th>2</th>\n",
       "      <td>Not all monitoring is created equal: what we m...</td>\n",
       "      <td>Gianluca Fiore</td>\n",
       "      <td>2025-03-12</td>\n",
       "      <td># Introduction\\nIT monitoring means different ...</td>\n",
       "      <td>not_all_monitoring.md</td>\n",
       "      <td>/Users/tsadoq/gits/check_chatbot/assets/blogpo...</td>\n",
       "      <td>Completeness is a plus in IT monitoring</td>\n",
       "      <td>No system is equal to another. Nor is one infr...</td>\n",
       "    </tr>\n",
       "    <tr>\n",
       "      <th>3</th>\n",
       "      <td>Not all monitoring is created equal: what we m...</td>\n",
       "      <td>Gianluca Fiore</td>\n",
       "      <td>2025-03-12</td>\n",
       "      <td># Introduction\\nIT monitoring means different ...</td>\n",
       "      <td>not_all_monitoring.md</td>\n",
       "      <td>/Users/tsadoq/gits/check_chatbot/assets/blogpo...</td>\n",
       "      <td>Size accordingly</td>\n",
       "      <td>There's no need to use a cannon to shoot a fly...</td>\n",
       "    </tr>\n",
       "    <tr>\n",
       "      <th>4</th>\n",
       "      <td>Not all monitoring is created equal: what we m...</td>\n",
       "      <td>Gianluca Fiore</td>\n",
       "      <td>2025-03-12</td>\n",
       "      <td># Introduction\\nIT monitoring means different ...</td>\n",
       "      <td>not_all_monitoring.md</td>\n",
       "      <td>/Users/tsadoq/gits/check_chatbot/assets/blogpo...</td>\n",
       "      <td>What is IT monitoring for us</td>\n",
       "      <td>IT monitoring means different things to differ...</td>\n",
       "    </tr>\n",
       "  </tbody>\n",
       "</table>\n",
       "</div>"
      ]
     },
     "execution_count": 2,
     "metadata": {},
     "output_type": "execute_result"
    }
   ],
   "execution_count": 2
  },
  {
   "metadata": {
    "ExecuteTime": {
     "end_time": "2025-03-14T10:07:18.679811Z",
     "start_time": "2025-03-14T10:07:18.602339Z"
    }
   },
   "cell_type": "code",
   "source": [
    "from ingestion.parsers.docs_ingestion import load_asciidoc_files_chunks\n",
    "\n",
    "root_folder = \"/Users/tsadoq/gits/check_chatbot/assets/docs\"\n",
    "df = load_asciidoc_files_chunks(root_folder)\n",
    "print(df.columns)"
   ],
   "id": "f78c9e6e28444c2d",
   "outputs": [
    {
     "name": "stderr",
     "output_type": "stream",
     "text": [
      "Loading Documentation AsciiDoc files: 100%|██████████| 198/198 [00:00<00:00, 2829.34it/s]"
     ]
    },
    {
     "name": "stdout",
     "output_type": "stream",
     "text": [
      "Index(['filename', 'folder', 'complete_text', 'section', 'chunk'], dtype='object')\n"
     ]
    },
    {
     "name": "stderr",
     "output_type": "stream",
     "text": [
      "\n"
     ]
    }
   ],
   "execution_count": 3
  },
  {
   "metadata": {
    "ExecuteTime": {
     "end_time": "2025-03-14T10:07:18.699413Z",
     "start_time": "2025-03-14T10:07:18.695362Z"
    }
   },
   "cell_type": "code",
   "source": "df",
   "id": "6423c8a3e77a194e",
   "outputs": [
    {
     "data": {
      "text/plain": [
       "          filename                                             folder  \\\n",
       "0     cmk_versions  /Users/tsadoq/gits/check_chatbot/assets/docs/o...   \n",
       "1     cmk_versions  /Users/tsadoq/gits/check_chatbot/assets/docs/o...   \n",
       "2     cmk_versions  /Users/tsadoq/gits/check_chatbot/assets/docs/o...   \n",
       "3     cmk_versions  /Users/tsadoq/gits/check_chatbot/assets/docs/o...   \n",
       "4     cmk_versions  /Users/tsadoq/gits/check_chatbot/assets/docs/o...   \n",
       "...            ...                                                ...   \n",
       "1969   intro_setup  /Users/tsadoq/gits/check_chatbot/assets/docs/s...   \n",
       "1970   intro_setup  /Users/tsadoq/gits/check_chatbot/assets/docs/s...   \n",
       "1971   intro_setup  /Users/tsadoq/gits/check_chatbot/assets/docs/s...   \n",
       "1972   intro_setup  /Users/tsadoq/gits/check_chatbot/assets/docs/s...   \n",
       "1973   intro_setup  /Users/tsadoq/gits/check_chatbot/assets/docs/s...   \n",
       "\n",
       "                                          complete_text            section  \\\n",
       "0     = {CMK} versions\\n\\nlink:update.html[Updates a...       Introduction   \n",
       "1     = {CMK} versions\\n\\nlink:update.html[Updates a...  development_cycle   \n",
       "2     = {CMK} versions\\n\\nlink:update.html[Updates a...           versions   \n",
       "3     = {CMK} versions\\n\\nlink:update.html[Updates a...              daily   \n",
       "4     = {CMK} versions\\n\\nlink:update.html[Updates a...         innovation   \n",
       "...                                                 ...                ...   \n",
       "1969  = Getting started with {CE}\\n\\nxref:cce#[{CE} ...       Introduction   \n",
       "1970  = Getting started with {CE}\\n\\nxref:cce#[{CE} ...       signup_trial   \n",
       "1971  = Getting started with {CE}\\n\\nxref:cce#[{CE} ...        login_first   \n",
       "1972  = Getting started with {CE}\\n\\nxref:cce#[{CE} ...   onboarding_guide   \n",
       "1973  = Getting started with {CE}\\n\\nxref:cce#[{CE} ...        admin_panel   \n",
       "\n",
       "                                                  chunk  \n",
       "0     = {CMK} versions\\n\\nlink:update.html[Updates a...  \n",
       "1     == The development cycle\\n\\nThe cycle from one...  \n",
       "2     == Versions\\n\\nEach xref:glossar#edition[{CMK}...  \n",
       "3     === Daily builds from the master\\n\\nOn the dev...  \n",
       "4     === Innovation versions\\n\\nInnovation versions...  \n",
       "...                                                 ...  \n",
       "1969  = Getting started with {CE}\\n\\nxref:cce#[{CE} ...  \n",
       "1970  == Registration\\n\\nThe procedure to begin a tr...  \n",
       "1971  == The first login\\n\\nimage::intro_login_saas....  \n",
       "1972  == The onboarding guide\\n\\n[{image-left}]\\nima...  \n",
       "1973  == The admin panel\\n\\n[{image-left}]\\nimage::i...  \n",
       "\n",
       "[1974 rows x 5 columns]"
      ],
      "text/html": [
       "<div>\n",
       "<style scoped>\n",
       "    .dataframe tbody tr th:only-of-type {\n",
       "        vertical-align: middle;\n",
       "    }\n",
       "\n",
       "    .dataframe tbody tr th {\n",
       "        vertical-align: top;\n",
       "    }\n",
       "\n",
       "    .dataframe thead th {\n",
       "        text-align: right;\n",
       "    }\n",
       "</style>\n",
       "<table border=\"1\" class=\"dataframe\">\n",
       "  <thead>\n",
       "    <tr style=\"text-align: right;\">\n",
       "      <th></th>\n",
       "      <th>filename</th>\n",
       "      <th>folder</th>\n",
       "      <th>complete_text</th>\n",
       "      <th>section</th>\n",
       "      <th>chunk</th>\n",
       "    </tr>\n",
       "  </thead>\n",
       "  <tbody>\n",
       "    <tr>\n",
       "      <th>0</th>\n",
       "      <td>cmk_versions</td>\n",
       "      <td>/Users/tsadoq/gits/check_chatbot/assets/docs/o...</td>\n",
       "      <td>= {CMK} versions\\n\\nlink:update.html[Updates a...</td>\n",
       "      <td>Introduction</td>\n",
       "      <td>= {CMK} versions\\n\\nlink:update.html[Updates a...</td>\n",
       "    </tr>\n",
       "    <tr>\n",
       "      <th>1</th>\n",
       "      <td>cmk_versions</td>\n",
       "      <td>/Users/tsadoq/gits/check_chatbot/assets/docs/o...</td>\n",
       "      <td>= {CMK} versions\\n\\nlink:update.html[Updates a...</td>\n",
       "      <td>development_cycle</td>\n",
       "      <td>== The development cycle\\n\\nThe cycle from one...</td>\n",
       "    </tr>\n",
       "    <tr>\n",
       "      <th>2</th>\n",
       "      <td>cmk_versions</td>\n",
       "      <td>/Users/tsadoq/gits/check_chatbot/assets/docs/o...</td>\n",
       "      <td>= {CMK} versions\\n\\nlink:update.html[Updates a...</td>\n",
       "      <td>versions</td>\n",
       "      <td>== Versions\\n\\nEach xref:glossar#edition[{CMK}...</td>\n",
       "    </tr>\n",
       "    <tr>\n",
       "      <th>3</th>\n",
       "      <td>cmk_versions</td>\n",
       "      <td>/Users/tsadoq/gits/check_chatbot/assets/docs/o...</td>\n",
       "      <td>= {CMK} versions\\n\\nlink:update.html[Updates a...</td>\n",
       "      <td>daily</td>\n",
       "      <td>=== Daily builds from the master\\n\\nOn the dev...</td>\n",
       "    </tr>\n",
       "    <tr>\n",
       "      <th>4</th>\n",
       "      <td>cmk_versions</td>\n",
       "      <td>/Users/tsadoq/gits/check_chatbot/assets/docs/o...</td>\n",
       "      <td>= {CMK} versions\\n\\nlink:update.html[Updates a...</td>\n",
       "      <td>innovation</td>\n",
       "      <td>=== Innovation versions\\n\\nInnovation versions...</td>\n",
       "    </tr>\n",
       "    <tr>\n",
       "      <th>...</th>\n",
       "      <td>...</td>\n",
       "      <td>...</td>\n",
       "      <td>...</td>\n",
       "      <td>...</td>\n",
       "      <td>...</td>\n",
       "    </tr>\n",
       "    <tr>\n",
       "      <th>1969</th>\n",
       "      <td>intro_setup</td>\n",
       "      <td>/Users/tsadoq/gits/check_chatbot/assets/docs/s...</td>\n",
       "      <td>= Getting started with {CE}\\n\\nxref:cce#[{CE} ...</td>\n",
       "      <td>Introduction</td>\n",
       "      <td>= Getting started with {CE}\\n\\nxref:cce#[{CE} ...</td>\n",
       "    </tr>\n",
       "    <tr>\n",
       "      <th>1970</th>\n",
       "      <td>intro_setup</td>\n",
       "      <td>/Users/tsadoq/gits/check_chatbot/assets/docs/s...</td>\n",
       "      <td>= Getting started with {CE}\\n\\nxref:cce#[{CE} ...</td>\n",
       "      <td>signup_trial</td>\n",
       "      <td>== Registration\\n\\nThe procedure to begin a tr...</td>\n",
       "    </tr>\n",
       "    <tr>\n",
       "      <th>1971</th>\n",
       "      <td>intro_setup</td>\n",
       "      <td>/Users/tsadoq/gits/check_chatbot/assets/docs/s...</td>\n",
       "      <td>= Getting started with {CE}\\n\\nxref:cce#[{CE} ...</td>\n",
       "      <td>login_first</td>\n",
       "      <td>== The first login\\n\\nimage::intro_login_saas....</td>\n",
       "    </tr>\n",
       "    <tr>\n",
       "      <th>1972</th>\n",
       "      <td>intro_setup</td>\n",
       "      <td>/Users/tsadoq/gits/check_chatbot/assets/docs/s...</td>\n",
       "      <td>= Getting started with {CE}\\n\\nxref:cce#[{CE} ...</td>\n",
       "      <td>onboarding_guide</td>\n",
       "      <td>== The onboarding guide\\n\\n[{image-left}]\\nima...</td>\n",
       "    </tr>\n",
       "    <tr>\n",
       "      <th>1973</th>\n",
       "      <td>intro_setup</td>\n",
       "      <td>/Users/tsadoq/gits/check_chatbot/assets/docs/s...</td>\n",
       "      <td>= Getting started with {CE}\\n\\nxref:cce#[{CE} ...</td>\n",
       "      <td>admin_panel</td>\n",
       "      <td>== The admin panel\\n\\n[{image-left}]\\nimage::i...</td>\n",
       "    </tr>\n",
       "  </tbody>\n",
       "</table>\n",
       "<p>1974 rows × 5 columns</p>\n",
       "</div>"
      ]
     },
     "execution_count": 4,
     "metadata": {},
     "output_type": "execute_result"
    }
   ],
   "execution_count": 4
  },
  {
   "metadata": {
    "ExecuteTime": {
     "end_time": "2025-03-14T10:07:18.774291Z",
     "start_time": "2025-03-14T10:07:18.771758Z"
    }
   },
   "cell_type": "code",
   "source": [
    "root_folder = \"/Users/tsadoq/gits/check_chatbot/assets/integrations_samples\"\n",
    "df = load_integrations(root_folder)\n",
    "print(df.columns)"
   ],
   "id": "311874e1f5b88c5a",
   "outputs": [
    {
     "name": "stdout",
     "output_type": "stream",
     "text": [
      "Index(['provider', 'Name', 'license', 'content', 'filename'], dtype='object')\n"
     ]
    }
   ],
   "execution_count": 5
  },
  {
   "metadata": {
    "ExecuteTime": {
     "end_time": "2025-03-14T10:07:18.959537Z",
     "start_time": "2025-03-14T10:07:18.956316Z"
    }
   },
   "cell_type": "code",
   "source": "df",
   "id": "71594431d2f4022a",
   "outputs": [
    {
     "data": {
      "text/plain": [
       "        provider              Name license  \\\n",
       "0  Hepta Stratum         Time Sync   GPLv2   \n",
       "1         AllNET  Humidity Sensors   GPLv2   \n",
       "\n",
       "                                             content            filename  \n",
       "0  The check will raise CRITICAL if the reported ...            hepta.md  \n",
       "1  Checks Humidity Sensors in ALLNET IP Sensoric ...  allnet_sens_hum.md  "
      ],
      "text/html": [
       "<div>\n",
       "<style scoped>\n",
       "    .dataframe tbody tr th:only-of-type {\n",
       "        vertical-align: middle;\n",
       "    }\n",
       "\n",
       "    .dataframe tbody tr th {\n",
       "        vertical-align: top;\n",
       "    }\n",
       "\n",
       "    .dataframe thead th {\n",
       "        text-align: right;\n",
       "    }\n",
       "</style>\n",
       "<table border=\"1\" class=\"dataframe\">\n",
       "  <thead>\n",
       "    <tr style=\"text-align: right;\">\n",
       "      <th></th>\n",
       "      <th>provider</th>\n",
       "      <th>Name</th>\n",
       "      <th>license</th>\n",
       "      <th>content</th>\n",
       "      <th>filename</th>\n",
       "    </tr>\n",
       "  </thead>\n",
       "  <tbody>\n",
       "    <tr>\n",
       "      <th>0</th>\n",
       "      <td>Hepta Stratum</td>\n",
       "      <td>Time Sync</td>\n",
       "      <td>GPLv2</td>\n",
       "      <td>The check will raise CRITICAL if the reported ...</td>\n",
       "      <td>hepta.md</td>\n",
       "    </tr>\n",
       "    <tr>\n",
       "      <th>1</th>\n",
       "      <td>AllNET</td>\n",
       "      <td>Humidity Sensors</td>\n",
       "      <td>GPLv2</td>\n",
       "      <td>Checks Humidity Sensors in ALLNET IP Sensoric ...</td>\n",
       "      <td>allnet_sens_hum.md</td>\n",
       "    </tr>\n",
       "  </tbody>\n",
       "</table>\n",
       "</div>"
      ]
     },
     "execution_count": 6,
     "metadata": {},
     "output_type": "execute_result"
    }
   ],
   "execution_count": 6
  },
  {
   "metadata": {
    "ExecuteTime": {
     "end_time": "2025-03-14T10:07:20.211363Z",
     "start_time": "2025-03-14T10:07:19.277634Z"
    }
   },
   "cell_type": "code",
   "source": [
    "from ingestion.embedders.openai_embedder import OpenAIEmbedder\n",
    "\n",
    "embedder = OpenAIEmbedder()\n",
    "resp = embedder.embed([\"Hello World\", \"This is a test\"])"
   ],
   "id": "c2a5690823af0757",
   "outputs": [],
   "execution_count": 7
  },
  {
   "metadata": {
    "ExecuteTime": {
     "end_time": "2025-03-14T10:07:20.223614Z",
     "start_time": "2025-03-14T10:07:20.221373Z"
    }
   },
   "cell_type": "code",
   "source": "len(resp[1])",
   "id": "cf4169a6140a695f",
   "outputs": [
    {
     "data": {
      "text/plain": [
       "1536"
      ]
     },
     "execution_count": 8,
     "metadata": {},
     "output_type": "execute_result"
    }
   ],
   "execution_count": 8
  },
  {
   "metadata": {
    "ExecuteTime": {
     "end_time": "2025-03-14T10:07:21.592405Z",
     "start_time": "2025-03-14T10:07:21.341474Z"
    }
   },
   "cell_type": "code",
   "source": [
    "from ingestion.ingestor_service import IngestorService\n",
    "\n",
    "ingestor = IngestorService()"
   ],
   "id": "e7cd68eb22ddffdd",
   "outputs": [],
   "execution_count": 9
  },
  {
   "metadata": {},
   "cell_type": "code",
   "source": "ingestor.ingest_blogposts()",
   "id": "f07ebfd76d50e869",
   "outputs": [],
   "execution_count": null
  },
  {
   "metadata": {},
   "cell_type": "code",
   "source": "ingestor.ingest_integration()",
   "id": "aedb7884ab38bc76",
   "outputs": [],
   "execution_count": null
  },
  {
   "metadata": {},
   "cell_type": "code",
   "source": "ingestor.ingest_documentation()",
   "id": "338264f88e01b68d",
   "outputs": [],
   "execution_count": null
  },
  {
   "metadata": {
    "ExecuteTime": {
     "end_time": "2025-03-14T10:07:26.966795Z",
     "start_time": "2025-03-14T10:07:26.964351Z"
    }
   },
   "cell_type": "code",
   "source": "db = ingestor.get_db_service()",
   "id": "409c113cf7cc1a45",
   "outputs": [],
   "execution_count": 10
  },
  {
   "metadata": {
    "ExecuteTime": {
     "end_time": "2025-03-14T10:07:28.763584Z",
     "start_time": "2025-03-14T10:07:27.641058Z"
    }
   },
   "cell_type": "code",
   "source": [
    "r = db.search(query=\"check_mk\", collection_name=\"documentation\")\n",
    "print(r)"
   ],
   "id": "12493c3948bdab2e",
   "outputs": [
    {
     "name": "stdout",
     "output_type": "stream",
     "text": [
      "[{'id': 'ID_DOC_01114', 'document': '==== Check\\nIn {CMK}, a _check_ is a script or program that evaluates a host or service according to predefined rules,\\ni.e. the process that determines the status of hosts and services and which results in the display of a status of {OK}, {DOWN}, {UNREACH}, {WARN}, {CRIT}, {PEND} or {UNKNOWN}.\\nChecks can be implemented, for example, with a check plug-in, local check, or active check.\\n\\nMore under xref:monitoring_basics#checks#[Checks].'}, {'id': 'ID_DOC_01744', 'document': '=== {CMK} fetcher and {CMK} checker\\n\\nThe CMC goes a significant step further however -- because in a {CMK} environment active checks are rather an exception.\\nHere {CMK}-based checks -- in which only a single fork per host and interval is required -- are primarily used. \\n\\nTo optimize the execution of these checks, the CMC maintains two other types of auxiliary processes: the *{CMK} fetchers* and the *{CMK} checkers*.'}, {'id': 'ID_DOC_00160', 'document': '=== Checking configuration files\\n\\nIf you edit configuration files in `etc/check_mk/` manually, it is a good idea to have the configuration checked.\\nYou can do this with the tool `cmk-update-config`, which is actually only executed automatically after a version update with `omd update`:\\n\\n[{shell}]\\n[{shell},highlight=7]\\n----\\n{c-omd} cmk-update-config\\n...\\nVerifying Checkmk configuration...\\n 01/05 Cleanup precompiled host and folder files...\\n 02/05 Rulesets...\\nException while trying to load rulesets: Cannot read configuration file \"/omd/sites/mysite/etc/check_mk/conf.d/wato/rules.mk\":\\n \\'[\\' was never closed (<string>, line 44)\\n\\nYou can abort the update process (A) and try to fix the incompatibilities or try to continue the update (c).\\nAbort update? [A/c]\\n...\\n----\\n\\nFor example, in the excerpt above you can see the reference to an unclosed bracket.'}, {'id': 'ID_DOC_00153', 'document': '=== Executing checks\\n\\nA second mode in {CMK} deals with the execution of a host\\'s {CMK}-based checks.\\nWith this you can allow all automatically detected, and also manually configured\\nservices, to be immediately checked, without needing to bother yourself with the\\nmonitoring core or the GUI.\\n\\nTo do this, enter `cmk --check` followed by the name of a host configured in the monitoring.\\nSince the `--check` option is the default option of `cmk`, you can also omit it.\\nIn addition, you should always add the two options `-n` (do not send results to the core) and `-v` (output all results).\\nMore on this in the description of the options below.\\n\\n[{shell}]\\n----\\n{c-omd} cmk -nv myserver123\\nCheckmk version 2.0.0p8\\nCPU load             [green]#15 min load 0.22 at 8 Cores (0.03 per Core)#\\nCPU utilization      [green]#Total CPU: 8.20%#\\nDisk IO SUMMARY      [green]#Read: 14.0 kB/s, Write: 316 kB/s, Latency: 442 microseconds#\\nFilesystem /         [yellow]#82.0% used (177.01 of 215.81 GB), (warn/crit at 80.00/90.00%),#\\nInterface 2          [green]#[wlo1], (up), MAC: 5C:80:B6:3E:38:7F, Speed: unknown, In: 1.02 kB/s, Out: 902 B/s#\\nKernel Performance   [green]#Process Creations: 67.82/s, Context Switches: 4183.41/s, Major Page Faults: 1.71/s, Page Swap in: 0.00/s, Page Swap Out: 0.00/s#\\nMemory               [green]#Total virtual memory: 37.07% - 6.08 GB of 16.41 GB#\\nMount options of /   [green]#Mount options exactly as expected#\\nNTP Time             [green]#sys.peer - stratum 2, offset 16.62 ms, jitter 5.19 ms, last reac#\\nNumber of threads    [green]#Count: 1501 threads, Usage: 1.19%#\\nTCP Connections      [green]#Established: 11#\\nTemperature Zone 0   [green]#25.0 °C#\\nUptime               [green]#Up since Jul 29 2021 08:38:32, Uptime: 4 hours 43 minutes#\\n[agent] Version: 2.0.0b5, OS: linux, execution time 0.9 sec | execution_time=0.850 user_time=0.050 system_time=0.010 children_user_time=0.000 children_system_time=0.000 cmk_time_agent=0.800\\n----\\n\\nFurther tips:\\n\\n* Do not use this command in monitored production hosts which use log file monitoring. Log messages are only sent once by agents, and it can happen that a manual `cmk -nv` ‘catches’ these and that they will then be lost from the monitoring. In such a situation use the `--no-tcp` option.\\n* If Nagios is being used for the core and `-n` is omitted, the effect will be an immediate actualization of the check results in the core and in the GUI.\\n* The command is useful when developing your own check plug-ins, because it enables a quicker test than by using the GUI. If the check fails and returns an {UNKNOWN}, the `--debug` option can help to find the problem location in the code.\\n\\nThe following options influence the command:\\n\\n\\n[cols=\"35,~\",options=header]\\n|===\\n|Option |Function\\n|`-v` |Check results output: Without this option you will only see the output from the service [.guihint]#Check_MK# itself, and not the results from the other services.\\n\\n|`-n` |Dry run: Results are *not* passed to the core, the performance counter is not updated.\\n\\n|`--detect-plugins=df,uptime` |Restricts the execution to the check plug-ins `df` and `uptime`. In the case of SNMP hosts, only the data required for these will be retrieved. This option is practical if you develop your own check plug-ins and only want to test these.\\n|==='}, {'id': 'ID_DOC_01383', 'document': '== Introduction\\n\\nIn {CMK} you can monitor your infrastructure in many different ways.\\nMonitoring by means of xref:wato_monitoringagents#agents[agents] or xref:snmp#[SNMP] are only two of xref:wato_monitoringagents#[a number of methods].\\nMonitoring by means of xref:wato_monitoringagents#agents[agents] is only one of xref:wato_monitoringagents#[a number of methods].\\nWhat all agent based methods have in common is that they only report states as the host sees them from the inside,\\nbut you will probably be aware of some services that can only be monitored effectively from the outside.\\nWhether the web server is functioning can still be verified from the inside,\\nbut however, the accessibility and response times of the actual user cannot be determined in this way.\\n\\n{CMK} provides its _active checks_ for such situations.\\nThese checks allow you to monitor network services directly and conveniently from the outside, and to display the information in your monitoring.\\nActive checks are small programs or scripts that connect to a service in the network or the internet, and then provide the user with the monitoring data.\\nMany of the scripts and programs you will find in {CMK} are originally from link:https://www.monitoring-plugins.org[monitoring-plugins.org^].\\nSince {CMK} is generally compatible with Nagios, you can also use all of the plug-ins that work under Nagios.\\n\\nWhen you integrate such plug-ins, keep in mind the main purpose of active checks --\\nin terms of end-to-end monitoring, they are supposed to check the accessibility, response time, or response status of a network-accessible service on the monitored host.\\n{CMK} offers a range of efficient checks for many other monitoring tasks.\\nYou can find an overview in the article xref:devel_intro#[Developing extensions for {CMK}].\\n\\nThe most important of these programs and scripts are available in {CMK} directly in the web interface.\\nHere is a small selection:\\n\\n* link:https://checkmk.com/integrations/check_httpv2[Check HTTP web service^]\\n* link:https://checkmk.com/integrations/check_cert[Check certificates^]\\n* link:https://checkmk.com/integrations/check_dns[Check DNS service^]\\n* link:https://checkmk.com/integrations/check_smtp[Check access to SMTP services^]\\n* link:https://checkmk.com/integrations/check_mail[Check Email^]\\n* link:https://checkmk.com/integrations/check_sftp[Check SFTP service^]\\n* link:https://checkmk.com/integrations/check_tcp[Check connecting to a TCP Port^]\\n* link:https://checkmk.com/integrations/check_ssh[Check SSH service^]\\n* link:https://checkmk.com/integrations/check_icmp[Check hosts with PING (ICMP Echo Request)^]\\n* link:https://checkmk.com/integrations/check_ldap[Check access to LDAP service^]'}]\n"
     ]
    }
   ],
   "execution_count": 11
  },
  {
   "metadata": {},
   "cell_type": "code",
   "source": [
    "from agents.tools import return_search_tools\n",
    "\n",
    "tools = return_search_tools(db_service=db)"
   ],
   "id": "7cdb1487d0408798",
   "outputs": [],
   "execution_count": null
  },
  {
   "metadata": {},
   "cell_type": "code",
   "source": "agent = return_check_mk_helper_agent(tools)",
   "id": "6d963a248a496b63",
   "outputs": [],
   "execution_count": null
  },
  {
   "metadata": {},
   "cell_type": "code",
   "source": [
    "from haystack.dataclasses import ChatMessage\n",
    "\n",
    "user_message = ChatMessage.from_user(\"How to integrate slack?\")"
   ],
   "id": "fc0fff115eccb868",
   "outputs": [],
   "execution_count": null
  },
  {
   "metadata": {},
   "cell_type": "code",
   "source": [
    "result = agent.run(messages=[user_message])\n",
    "\n",
    "print(result[\"messages\"][-1].text)"
   ],
   "id": "8367345b6433242c",
   "outputs": [],
   "execution_count": null
  },
  {
   "metadata": {},
   "cell_type": "code",
   "source": "db.documentation_collection.get(ids='ID_DOC_01380')",
   "id": "4388422abd1ffb2",
   "outputs": [],
   "execution_count": null
  },
  {
   "metadata": {},
   "cell_type": "code",
   "source": [
    "list_messages = result[\"messages\"]\n",
    "\n",
    "list_messages.append(ChatMessage.from_user(\"What if i want to integrate with discord, is it possible?\"))\n",
    "\n",
    "result = agent.run(messages=list_messages)"
   ],
   "id": "cd720c074bc6718b",
   "outputs": [],
   "execution_count": null
  },
  {
   "metadata": {},
   "cell_type": "code",
   "source": "print(result[\"messages\"][-1].text)",
   "id": "df5c6f75a94bdab4",
   "outputs": [],
   "execution_count": null
  },
  {
   "metadata": {},
   "cell_type": "code",
   "source": [
    "list_messages = result[\"messages\"]\n",
    "\n",
    "list_messages.append(ChatMessage.from_user(\"so, what are the differences between the twos?\"))\n",
    "\n",
    "result = agent.run(messages=list_messages)"
   ],
   "id": "7dfef624529b0505",
   "outputs": [],
   "execution_count": null
  },
  {
   "metadata": {},
   "cell_type": "code",
   "source": "print(result[\"messages\"][-1].text)",
   "id": "37e2af472cbdad7a",
   "outputs": [],
   "execution_count": null
  },
  {
   "metadata": {},
   "cell_type": "code",
   "source": [
    "list_messages = result[\"messages\"]\n",
    "\n",
    "list_messages.append(ChatMessage.from_user(\"cool, what other way can be used for sending notifications?\"))\n",
    "\n",
    "result = agent.run(messages=list_messages)"
   ],
   "id": "51496450f1323adb",
   "outputs": [],
   "execution_count": null
  },
  {
   "metadata": {},
   "cell_type": "code",
   "source": "print(result[\"messages\"][-1].text)",
   "id": "ebc8a56c1d71be6e",
   "outputs": [],
   "execution_count": null
  },
  {
   "metadata": {
    "ExecuteTime": {
     "end_time": "2025-03-14T10:07:35.507285Z",
     "start_time": "2025-03-14T10:07:35.501203Z"
    }
   },
   "cell_type": "code",
   "source": "db.documentation_collection.get(ids=['ID_DOC_01379'])",
   "id": "e146af2e466c0580",
   "outputs": [
    {
     "data": {
      "text/plain": [
       "{'ids': ['ID_DOC_01379'],\n",
       " 'embeddings': None,\n",
       " 'documents': ['= Notifications via Slack\\n\\nxref:notifications#[Notifications]\\n\\n\\nWith the link:https://slack.com/[Slack^] messenger you can conveniently receive notifications via a webhook.\\nThis works on self-hosted or rented servers, as well as via the free public Slack service.'],\n",
       " 'uris': None,\n",
       " 'data': None,\n",
       " 'metadatas': [{'complete_text': '= Notifications via Slack\\n\\nxref:notifications#[Notifications]\\n\\n\\nWith the link:https://slack.com/[Slack^] messenger you can conveniently receive notifications via a webhook.\\nThis works on self-hosted or rented servers, as well as via the free public Slack service.\\n\\n\\n[#config_slack]\\n== Configuring Slack\\n\\nTo activate webhooks and create a new webhook, you must first create a Slack app.\\nLog in to Slack and create a _Workspace_.\\nThen proceed as follows:\\n\\n. Create a new app via link:https://api.slack.com/messaging/webhooks[this link^] using the Slack API.\\n. Assign any name you like and choose your workspace.\\n. In the next dialog choose [.guihint]#Incoming Webhook# as the app function.\\n. Next activate webhooks by setting the switch to [.guihint]#on#.\\n. Create the webhook with the [.guihint]#Add New Webhook to Workspace# button.\\n. Finally, set the channel (group) where the app should post to, and confirm the rights request.\\n\\nFor testing purposes, on completion you will receive a `curl` statement which posts _Hello World_ to the desired channel.\\nCopy the webhook URL and switch to {CMK}.\\n\\n\\n[#config_checkmk]\\n== Configuring {CMK}\\n\\nYou have already learned how to set up {CMK} notifications in general in the article on xref:notifications#[notifications].\\n\\nIn {CMK} it is now sufficient to specify the URL copied above:\\n\\n. Create a new notification rule with [.guihint]#Setup > Events >  Notifications > Add notification rule#.\\n. For the [.guihint]#Notification method (plug-in) > Notification effect# choose [.guihint]#Slack or Mattermost#.\\n. Use [.guihint]#Create# to open the form for entering the parameters.\\n. Under [.guihint]#Parameter properties#, enter the copied webhook URL, which must begin with `https://`:\\n+\\nimage::notifications_slack_parameter.png[alt=\"The parameter settings for the notification method for Slack and Mattermost.\"]\\n. Create a new notification rule with [.guihint]#Setup > Events > Notifications > Add rule#.\\n. For the [.guihint]#Notification Method# choose [.guihint]#Slack or Mattermost#.\\n. Enter the copied webhook URL:\\n+\\nimage::notifications_slack.png[alt=\"The notification method settings for Slack and Mattermost.\"]\\n+\\nInstead of entering the URL directly here, you can also read it from the xref:password_store#[password store] - provided it was previously stored there.\\n\\nOptionally, you may specify URL prefixes to control links on your {CMK} GUI within the notification.\\n\\nClick [.guihint]#Save# to return to the main part of the notification configuration.\\n\\nWhen using the following [.guihint]#Recipient# section, note the following two points:\\n\\nWhen using the following [.guihint]#Contact selection# box, note the following two points:\\n\\n\\nYou can find out how to test the new notification method in the article on xref:notifications#notification_testing[notifications].',\n",
       "   'filename': 'notifications_slack',\n",
       "   'folder': '/Users/tsadoq/gits/check_chatbot/assets/docs/common/en',\n",
       "   'section': 'Introduction'}],\n",
       " 'included': [<IncludeEnum.documents: 'documents'>,\n",
       "  <IncludeEnum.metadatas: 'metadatas'>]}"
      ]
     },
     "execution_count": 12,
     "metadata": {},
     "output_type": "execute_result"
    }
   ],
   "execution_count": 12
  },
  {
   "metadata": {},
   "cell_type": "code",
   "source": "\n",
   "id": "f0cb2cc6659ce67e",
   "outputs": [],
   "execution_count": null
  }
 ],
 "metadata": {
  "kernelspec": {
   "display_name": "Python 3",
   "language": "python",
   "name": "python3"
  },
  "language_info": {
   "codemirror_mode": {
    "name": "ipython",
    "version": 2
   },
   "file_extension": ".py",
   "mimetype": "text/x-python",
   "name": "python",
   "nbconvert_exporter": "python",
   "pygments_lexer": "ipython2",
   "version": "2.7.6"
  }
 },
 "nbformat": 4,
 "nbformat_minor": 5
}
